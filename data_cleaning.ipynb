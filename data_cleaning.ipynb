{
 "cells": [
  {
   "cell_type": "markdown",
   "metadata": {},
   "source": [
    "# Portfolio optimisation on python"
   ]
  },
  {
   "cell_type": "markdown",
   "metadata": {},
   "source": [
    "## Import the data"
   ]
  },
  {
   "cell_type": "code",
   "execution_count": 1,
   "metadata": {},
   "outputs": [],
   "source": [
    "import numpy as np\n",
    "import pandas as pd\n",
    "import random\n",
    "import matplotlib.pyplot as plt\n",
    "import math\n",
    "%matplotlib inline\n",
    "\n",
    "import warnings"
   ]
  },
  {
   "cell_type": "code",
   "execution_count": 2,
   "metadata": {},
   "outputs": [],
   "source": [
    "#import pickle file\n",
    "df = pd.read_pickle('data_acti.pkl')"
   ]
  },
  {
   "cell_type": "code",
   "execution_count": 3,
   "metadata": {},
   "outputs": [
    {
     "data": {
      "text/html": [
       "<div>\n",
       "<style scoped>\n",
       "    .dataframe tbody tr th:only-of-type {\n",
       "        vertical-align: middle;\n",
       "    }\n",
       "\n",
       "    .dataframe tbody tr th {\n",
       "        vertical-align: top;\n",
       "    }\n",
       "\n",
       "    .dataframe thead th {\n",
       "        text-align: right;\n",
       "    }\n",
       "</style>\n",
       "<table border=\"1\" class=\"dataframe\">\n",
       "  <thead>\n",
       "    <tr style=\"text-align: right;\">\n",
       "      <th>instrumentid</th>\n",
       "      <th>30566</th>\n",
       "      <th>30563</th>\n",
       "      <th>30560</th>\n",
       "      <th>30556</th>\n",
       "      <th>30555</th>\n",
       "      <th>30565</th>\n",
       "      <th>30557</th>\n",
       "      <th>30553</th>\n",
       "      <th>30568</th>\n",
       "      <th>30571</th>\n",
       "      <th>...</th>\n",
       "      <th>30570</th>\n",
       "      <th>30564</th>\n",
       "      <th>30569</th>\n",
       "      <th>30579</th>\n",
       "      <th>30578</th>\n",
       "      <th>2</th>\n",
       "      <th>7403</th>\n",
       "      <th>7</th>\n",
       "      <th>7401</th>\n",
       "      <th>1</th>\n",
       "    </tr>\n",
       "  </thead>\n",
       "  <tbody>\n",
       "    <tr>\n",
       "      <th>2000-01-03</th>\n",
       "      <td>-0.008091</td>\n",
       "      <td>NaN</td>\n",
       "      <td>NaN</td>\n",
       "      <td>NaN</td>\n",
       "      <td>-0.004274</td>\n",
       "      <td>-0.002231</td>\n",
       "      <td>NaN</td>\n",
       "      <td>0.000000</td>\n",
       "      <td>0.000000</td>\n",
       "      <td>NaN</td>\n",
       "      <td>...</td>\n",
       "      <td>NaN</td>\n",
       "      <td>NaN</td>\n",
       "      <td>NaN</td>\n",
       "      <td>NaN</td>\n",
       "      <td>NaN</td>\n",
       "      <td>-0.012706</td>\n",
       "      <td>-0.003801</td>\n",
       "      <td>-0.005355</td>\n",
       "      <td>-0.004181</td>\n",
       "      <td>-0.000878</td>\n",
       "    </tr>\n",
       "    <tr>\n",
       "      <th>2000-01-04</th>\n",
       "      <td>0.004894</td>\n",
       "      <td>-0.001542</td>\n",
       "      <td>0.000125</td>\n",
       "      <td>NaN</td>\n",
       "      <td>0.003365</td>\n",
       "      <td>0.001258</td>\n",
       "      <td>NaN</td>\n",
       "      <td>-0.008427</td>\n",
       "      <td>-0.011169</td>\n",
       "      <td>NaN</td>\n",
       "      <td>...</td>\n",
       "      <td>NaN</td>\n",
       "      <td>-0.041044</td>\n",
       "      <td>NaN</td>\n",
       "      <td>NaN</td>\n",
       "      <td>NaN</td>\n",
       "      <td>-0.014512</td>\n",
       "      <td>-0.029296</td>\n",
       "      <td>-0.007350</td>\n",
       "      <td>-0.018245</td>\n",
       "      <td>0.001154</td>\n",
       "    </tr>\n",
       "    <tr>\n",
       "      <th>2000-01-05</th>\n",
       "      <td>-0.007035</td>\n",
       "      <td>-0.002668</td>\n",
       "      <td>-0.000125</td>\n",
       "      <td>-0.006384</td>\n",
       "      <td>-0.003931</td>\n",
       "      <td>-0.001303</td>\n",
       "      <td>NaN</td>\n",
       "      <td>-0.007912</td>\n",
       "      <td>0.008456</td>\n",
       "      <td>NaN</td>\n",
       "      <td>...</td>\n",
       "      <td>-0.020489</td>\n",
       "      <td>-0.012950</td>\n",
       "      <td>NaN</td>\n",
       "      <td>NaN</td>\n",
       "      <td>NaN</td>\n",
       "      <td>-0.003386</td>\n",
       "      <td>-0.011830</td>\n",
       "      <td>-0.001131</td>\n",
       "      <td>-0.003765</td>\n",
       "      <td>-0.000240</td>\n",
       "    </tr>\n",
       "    <tr>\n",
       "      <th>2000-01-06</th>\n",
       "      <td>0.003270</td>\n",
       "      <td>-0.001408</td>\n",
       "      <td>0.000000</td>\n",
       "      <td>-0.001046</td>\n",
       "      <td>0.001857</td>\n",
       "      <td>0.000699</td>\n",
       "      <td>NaN</td>\n",
       "      <td>0.004431</td>\n",
       "      <td>-0.006994</td>\n",
       "      <td>NaN</td>\n",
       "      <td>...</td>\n",
       "      <td>-0.012488</td>\n",
       "      <td>0.012675</td>\n",
       "      <td>NaN</td>\n",
       "      <td>NaN</td>\n",
       "      <td>NaN</td>\n",
       "      <td>-0.001160</td>\n",
       "      <td>-0.014303</td>\n",
       "      <td>0.004081</td>\n",
       "      <td>-0.004351</td>\n",
       "      <td>-0.000709</td>\n",
       "    </tr>\n",
       "    <tr>\n",
       "      <th>2000-01-07</th>\n",
       "      <td>0.004074</td>\n",
       "      <td>0.008177</td>\n",
       "      <td>0.004863</td>\n",
       "      <td>0.004487</td>\n",
       "      <td>0.002202</td>\n",
       "      <td>0.000698</td>\n",
       "      <td>NaN</td>\n",
       "      <td>0.003088</td>\n",
       "      <td>0.001404</td>\n",
       "      <td>NaN</td>\n",
       "      <td>...</td>\n",
       "      <td>0.006850</td>\n",
       "      <td>0.021739</td>\n",
       "      <td>NaN</td>\n",
       "      <td>NaN</td>\n",
       "      <td>NaN</td>\n",
       "      <td>0.005831</td>\n",
       "      <td>0.003924</td>\n",
       "      <td>-0.000151</td>\n",
       "      <td>0.006369</td>\n",
       "      <td>-0.001186</td>\n",
       "    </tr>\n",
       "  </tbody>\n",
       "</table>\n",
       "<p>5 rows × 29 columns</p>\n",
       "</div>"
      ],
      "text/plain": [
       "instrumentid     30566     30563     30560     30556     30555     30565  \\\n",
       "2000-01-03   -0.008091       NaN       NaN       NaN -0.004274 -0.002231   \n",
       "2000-01-04    0.004894 -0.001542  0.000125       NaN  0.003365  0.001258   \n",
       "2000-01-05   -0.007035 -0.002668 -0.000125 -0.006384 -0.003931 -0.001303   \n",
       "2000-01-06    0.003270 -0.001408  0.000000 -0.001046  0.001857  0.000699   \n",
       "2000-01-07    0.004074  0.008177  0.004863  0.004487  0.002202  0.000698   \n",
       "\n",
       "instrumentid  30557     30553     30568  30571  ...     30570     30564  \\\n",
       "2000-01-03      NaN  0.000000  0.000000    NaN  ...       NaN       NaN   \n",
       "2000-01-04      NaN -0.008427 -0.011169    NaN  ...       NaN -0.041044   \n",
       "2000-01-05      NaN -0.007912  0.008456    NaN  ... -0.020489 -0.012950   \n",
       "2000-01-06      NaN  0.004431 -0.006994    NaN  ... -0.012488  0.012675   \n",
       "2000-01-07      NaN  0.003088  0.001404    NaN  ...  0.006850  0.021739   \n",
       "\n",
       "instrumentid  30569  30579  30578     2         7403      7         7401   \\\n",
       "2000-01-03      NaN    NaN    NaN -0.012706 -0.003801 -0.005355 -0.004181   \n",
       "2000-01-04      NaN    NaN    NaN -0.014512 -0.029296 -0.007350 -0.018245   \n",
       "2000-01-05      NaN    NaN    NaN -0.003386 -0.011830 -0.001131 -0.003765   \n",
       "2000-01-06      NaN    NaN    NaN -0.001160 -0.014303  0.004081 -0.004351   \n",
       "2000-01-07      NaN    NaN    NaN  0.005831  0.003924 -0.000151  0.006369   \n",
       "\n",
       "instrumentid     1      \n",
       "2000-01-03   -0.000878  \n",
       "2000-01-04    0.001154  \n",
       "2000-01-05   -0.000240  \n",
       "2000-01-06   -0.000709  \n",
       "2000-01-07   -0.001186  \n",
       "\n",
       "[5 rows x 29 columns]"
      ]
     },
     "execution_count": 3,
     "metadata": {},
     "output_type": "execute_result"
    }
   ],
   "source": [
    "df.head()"
   ]
  },
  {
   "cell_type": "code",
   "execution_count": 4,
   "metadata": {},
   "outputs": [],
   "source": [
    "#import mappind file\n",
    "mapping = pd.read_excel('mapping.xlsx')"
   ]
  },
  {
   "cell_type": "code",
   "execution_count": 5,
   "metadata": {},
   "outputs": [
    {
     "data": {
      "text/html": [
       "<div>\n",
       "<style scoped>\n",
       "    .dataframe tbody tr th:only-of-type {\n",
       "        vertical-align: middle;\n",
       "    }\n",
       "\n",
       "    .dataframe tbody tr th {\n",
       "        vertical-align: top;\n",
       "    }\n",
       "\n",
       "    .dataframe thead th {\n",
       "        text-align: right;\n",
       "    }\n",
       "</style>\n",
       "<table border=\"1\" class=\"dataframe\">\n",
       "  <thead>\n",
       "    <tr style=\"text-align: right;\">\n",
       "      <th></th>\n",
       "      <th>shortname</th>\n",
       "      <th>longname</th>\n",
       "      <th>assetclass</th>\n",
       "      <th>type</th>\n",
       "    </tr>\n",
       "    <tr>\n",
       "      <th>instrumentid</th>\n",
       "      <th></th>\n",
       "      <th></th>\n",
       "      <th></th>\n",
       "      <th></th>\n",
       "    </tr>\n",
       "  </thead>\n",
       "  <tbody>\n",
       "    <tr>\n",
       "      <th>30566</th>\n",
       "      <td>USTreas</td>\n",
       "      <td>US 10Y Treasury Note</td>\n",
       "      <td>BOND</td>\n",
       "      <td>FUTURE</td>\n",
       "    </tr>\n",
       "    <tr>\n",
       "      <th>30563</th>\n",
       "      <td>Bund</td>\n",
       "      <td>German Bund</td>\n",
       "      <td>BOND</td>\n",
       "      <td>FUTURE</td>\n",
       "    </tr>\n",
       "    <tr>\n",
       "      <th>30560</th>\n",
       "      <td>Bobl</td>\n",
       "      <td>German Medium-Term Debt</td>\n",
       "      <td>BOND</td>\n",
       "      <td>FUTURE</td>\n",
       "    </tr>\n",
       "    <tr>\n",
       "      <th>30556</th>\n",
       "      <td>Gilt</td>\n",
       "      <td>UK 10Y Note</td>\n",
       "      <td>BOND</td>\n",
       "      <td>FUTURE</td>\n",
       "    </tr>\n",
       "    <tr>\n",
       "      <th>30555</th>\n",
       "      <td>UST5Y</td>\n",
       "      <td>US 5Y Treasury Note</td>\n",
       "      <td>BOND</td>\n",
       "      <td>FUTURE</td>\n",
       "    </tr>\n",
       "  </tbody>\n",
       "</table>\n",
       "</div>"
      ],
      "text/plain": [
       "             shortname                 longname assetclass    type\n",
       "instrumentid                                                      \n",
       "30566          USTreas     US 10Y Treasury Note       BOND  FUTURE\n",
       "30563             Bund              German Bund       BOND  FUTURE\n",
       "30560             Bobl  German Medium-Term Debt       BOND  FUTURE\n",
       "30556             Gilt              UK 10Y Note       BOND  FUTURE\n",
       "30555            UST5Y      US 5Y Treasury Note       BOND  FUTURE"
      ]
     },
     "execution_count": 5,
     "metadata": {},
     "output_type": "execute_result"
    }
   ],
   "source": [
    "mapping = mapping.set_index('instrumentid')\n",
    "mapping.head()"
   ]
  },
  {
   "cell_type": "code",
   "execution_count": 6,
   "metadata": {},
   "outputs": [],
   "source": [
    "#matching the columns name with the mapping\n",
    "dic_columns = {}\n",
    "for column in df.columns:\n",
    "    dic_columns[column] = mapping.loc[column,'shortname']\n",
    "df.rename(columns = dic_columns, inplace = True)"
   ]
  },
  {
   "cell_type": "code",
   "execution_count": 7,
   "metadata": {},
   "outputs": [
    {
     "data": {
      "text/html": [
       "<div>\n",
       "<style scoped>\n",
       "    .dataframe tbody tr th:only-of-type {\n",
       "        vertical-align: middle;\n",
       "    }\n",
       "\n",
       "    .dataframe tbody tr th {\n",
       "        vertical-align: top;\n",
       "    }\n",
       "\n",
       "    .dataframe thead th {\n",
       "        text-align: right;\n",
       "    }\n",
       "</style>\n",
       "<table border=\"1\" class=\"dataframe\">\n",
       "  <thead>\n",
       "    <tr style=\"text-align: right;\">\n",
       "      <th>instrumentid</th>\n",
       "      <th>USTreas</th>\n",
       "      <th>Bund</th>\n",
       "      <th>Bobl</th>\n",
       "      <th>Gilt</th>\n",
       "      <th>UST5Y</th>\n",
       "      <th>UST2Y</th>\n",
       "      <th>BTP</th>\n",
       "      <th>CABOND</th>\n",
       "      <th>AUGOV</th>\n",
       "      <th>TIPS</th>\n",
       "      <th>...</th>\n",
       "      <th>UKEq</th>\n",
       "      <th>SwEq</th>\n",
       "      <th>AuEq</th>\n",
       "      <th>Gold</th>\n",
       "      <th>Cdty</th>\n",
       "      <th>USD</th>\n",
       "      <th>JPY</th>\n",
       "      <th>GBP</th>\n",
       "      <th>AUD</th>\n",
       "      <th>CHF</th>\n",
       "    </tr>\n",
       "  </thead>\n",
       "  <tbody>\n",
       "    <tr>\n",
       "      <th>2000-01-03</th>\n",
       "      <td>-0.008091</td>\n",
       "      <td>NaN</td>\n",
       "      <td>NaN</td>\n",
       "      <td>NaN</td>\n",
       "      <td>-0.004274</td>\n",
       "      <td>-0.002231</td>\n",
       "      <td>NaN</td>\n",
       "      <td>0.000000</td>\n",
       "      <td>0.000000</td>\n",
       "      <td>NaN</td>\n",
       "      <td>...</td>\n",
       "      <td>NaN</td>\n",
       "      <td>NaN</td>\n",
       "      <td>NaN</td>\n",
       "      <td>NaN</td>\n",
       "      <td>NaN</td>\n",
       "      <td>-0.012706</td>\n",
       "      <td>-0.003801</td>\n",
       "      <td>-0.005355</td>\n",
       "      <td>-0.004181</td>\n",
       "      <td>-0.000878</td>\n",
       "    </tr>\n",
       "    <tr>\n",
       "      <th>2000-01-04</th>\n",
       "      <td>0.004894</td>\n",
       "      <td>-0.001542</td>\n",
       "      <td>0.000125</td>\n",
       "      <td>NaN</td>\n",
       "      <td>0.003365</td>\n",
       "      <td>0.001258</td>\n",
       "      <td>NaN</td>\n",
       "      <td>-0.008427</td>\n",
       "      <td>-0.011169</td>\n",
       "      <td>NaN</td>\n",
       "      <td>...</td>\n",
       "      <td>NaN</td>\n",
       "      <td>-0.041044</td>\n",
       "      <td>NaN</td>\n",
       "      <td>NaN</td>\n",
       "      <td>NaN</td>\n",
       "      <td>-0.014512</td>\n",
       "      <td>-0.029296</td>\n",
       "      <td>-0.007350</td>\n",
       "      <td>-0.018245</td>\n",
       "      <td>0.001154</td>\n",
       "    </tr>\n",
       "    <tr>\n",
       "      <th>2000-01-05</th>\n",
       "      <td>-0.007035</td>\n",
       "      <td>-0.002668</td>\n",
       "      <td>-0.000125</td>\n",
       "      <td>-0.006384</td>\n",
       "      <td>-0.003931</td>\n",
       "      <td>-0.001303</td>\n",
       "      <td>NaN</td>\n",
       "      <td>-0.007912</td>\n",
       "      <td>0.008456</td>\n",
       "      <td>NaN</td>\n",
       "      <td>...</td>\n",
       "      <td>-0.020489</td>\n",
       "      <td>-0.012950</td>\n",
       "      <td>NaN</td>\n",
       "      <td>NaN</td>\n",
       "      <td>NaN</td>\n",
       "      <td>-0.003386</td>\n",
       "      <td>-0.011830</td>\n",
       "      <td>-0.001131</td>\n",
       "      <td>-0.003765</td>\n",
       "      <td>-0.000240</td>\n",
       "    </tr>\n",
       "    <tr>\n",
       "      <th>2000-01-06</th>\n",
       "      <td>0.003270</td>\n",
       "      <td>-0.001408</td>\n",
       "      <td>0.000000</td>\n",
       "      <td>-0.001046</td>\n",
       "      <td>0.001857</td>\n",
       "      <td>0.000699</td>\n",
       "      <td>NaN</td>\n",
       "      <td>0.004431</td>\n",
       "      <td>-0.006994</td>\n",
       "      <td>NaN</td>\n",
       "      <td>...</td>\n",
       "      <td>-0.012488</td>\n",
       "      <td>0.012675</td>\n",
       "      <td>NaN</td>\n",
       "      <td>NaN</td>\n",
       "      <td>NaN</td>\n",
       "      <td>-0.001160</td>\n",
       "      <td>-0.014303</td>\n",
       "      <td>0.004081</td>\n",
       "      <td>-0.004351</td>\n",
       "      <td>-0.000709</td>\n",
       "    </tr>\n",
       "    <tr>\n",
       "      <th>2000-01-07</th>\n",
       "      <td>0.004074</td>\n",
       "      <td>0.008177</td>\n",
       "      <td>0.004863</td>\n",
       "      <td>0.004487</td>\n",
       "      <td>0.002202</td>\n",
       "      <td>0.000698</td>\n",
       "      <td>NaN</td>\n",
       "      <td>0.003088</td>\n",
       "      <td>0.001404</td>\n",
       "      <td>NaN</td>\n",
       "      <td>...</td>\n",
       "      <td>0.006850</td>\n",
       "      <td>0.021739</td>\n",
       "      <td>NaN</td>\n",
       "      <td>NaN</td>\n",
       "      <td>NaN</td>\n",
       "      <td>0.005831</td>\n",
       "      <td>0.003924</td>\n",
       "      <td>-0.000151</td>\n",
       "      <td>0.006369</td>\n",
       "      <td>-0.001186</td>\n",
       "    </tr>\n",
       "  </tbody>\n",
       "</table>\n",
       "<p>5 rows × 29 columns</p>\n",
       "</div>"
      ],
      "text/plain": [
       "instrumentid   USTreas      Bund      Bobl      Gilt     UST5Y     UST2Y  BTP  \\\n",
       "2000-01-03   -0.008091       NaN       NaN       NaN -0.004274 -0.002231  NaN   \n",
       "2000-01-04    0.004894 -0.001542  0.000125       NaN  0.003365  0.001258  NaN   \n",
       "2000-01-05   -0.007035 -0.002668 -0.000125 -0.006384 -0.003931 -0.001303  NaN   \n",
       "2000-01-06    0.003270 -0.001408  0.000000 -0.001046  0.001857  0.000699  NaN   \n",
       "2000-01-07    0.004074  0.008177  0.004863  0.004487  0.002202  0.000698  NaN   \n",
       "\n",
       "instrumentid    CABOND     AUGOV  TIPS  ...      UKEq      SwEq  AuEq  Gold  \\\n",
       "2000-01-03    0.000000  0.000000   NaN  ...       NaN       NaN   NaN   NaN   \n",
       "2000-01-04   -0.008427 -0.011169   NaN  ...       NaN -0.041044   NaN   NaN   \n",
       "2000-01-05   -0.007912  0.008456   NaN  ... -0.020489 -0.012950   NaN   NaN   \n",
       "2000-01-06    0.004431 -0.006994   NaN  ... -0.012488  0.012675   NaN   NaN   \n",
       "2000-01-07    0.003088  0.001404   NaN  ...  0.006850  0.021739   NaN   NaN   \n",
       "\n",
       "instrumentid  Cdty       USD       JPY       GBP       AUD       CHF  \n",
       "2000-01-03     NaN -0.012706 -0.003801 -0.005355 -0.004181 -0.000878  \n",
       "2000-01-04     NaN -0.014512 -0.029296 -0.007350 -0.018245  0.001154  \n",
       "2000-01-05     NaN -0.003386 -0.011830 -0.001131 -0.003765 -0.000240  \n",
       "2000-01-06     NaN -0.001160 -0.014303  0.004081 -0.004351 -0.000709  \n",
       "2000-01-07     NaN  0.005831  0.003924 -0.000151  0.006369 -0.001186  \n",
       "\n",
       "[5 rows x 29 columns]"
      ]
     },
     "execution_count": 7,
     "metadata": {},
     "output_type": "execute_result"
    }
   ],
   "source": [
    "df.head()"
   ]
  },
  {
   "cell_type": "markdown",
   "metadata": {},
   "source": [
    "#### Converting back to prices ... special case here"
   ]
  },
  {
   "cell_type": "code",
   "execution_count": 8,
   "metadata": {},
   "outputs": [],
   "source": [
    "df = np.cumprod(1 + df) * 1 #or whatever number"
   ]
  },
  {
   "cell_type": "markdown",
   "metadata": {},
   "source": [
    "## Adding obvious errors or missing values in the data"
   ]
  },
  {
   "cell_type": "code",
   "execution_count": 9,
   "metadata": {},
   "outputs": [],
   "source": [
    "df.loc['2013-04-12','UsEq'] = np.NaN"
   ]
  },
  {
   "cell_type": "code",
   "execution_count": 10,
   "metadata": {},
   "outputs": [],
   "source": [
    "df.loc['2017-04-12','CHF'] = np.NaN"
   ]
  },
  {
   "cell_type": "code",
   "execution_count": 11,
   "metadata": {},
   "outputs": [],
   "source": [
    "df.loc['2012-04-12','AUGOV'] = 8.4"
   ]
  },
  {
   "cell_type": "code",
   "execution_count": 12,
   "metadata": {},
   "outputs": [],
   "source": [
    "df.loc['2014-04-16','JPY'] = -10"
   ]
  },
  {
   "cell_type": "code",
   "execution_count": 13,
   "metadata": {},
   "outputs": [],
   "source": [
    "for i in range(len(df)):\n",
    "    if random.uniform(0, 1) > 0.9:\n",
    "        df.iloc[i,df.columns.get_loc(\"TIPS\")] = np.NaN"
   ]
  },
  {
   "cell_type": "markdown",
   "metadata": {},
   "source": [
    "## Cleaning unstructured or abstract time series from \"multiple\" \"non-conform\" sources"
   ]
  },
  {
   "cell_type": "code",
   "execution_count": 14,
   "metadata": {},
   "outputs": [
    {
     "data": {
      "text/plain": [
       "(0, 1)"
      ]
     },
     "execution_count": 14,
     "metadata": {},
     "output_type": "execute_result"
    },
    {
     "data": {
      "image/png": "[encoded data removed]",
      "text/plain": [
       "<Figure size 360x1800 with 1 Axes>"
      ]
     },
     "metadata": {
      "needs_background": "light"
     },
     "output_type": "display_data"
    }
   ],
   "source": [
    "# Visualize NaN\n",
    "plt.figure(figsize=(5,25))\n",
    "plt.title('The proportion of NaN values for each column')\n",
    "plt.barh(df.columns,df.isnull().mean(),color='orange')  \n",
    "plt.ylim(0,len(df.columns))\n",
    "plt.xlim(0,1)"
   ]
  },
  {
   "cell_type": "markdown",
   "metadata": {},
   "source": [
    "### Dealing with missing values and frequency"
   ]
  },
  {
   "cell_type": "code",
   "execution_count": 15,
   "metadata": {},
   "outputs": [],
   "source": [
    "def removenans(df):\n",
    "    '''Remove leading NaNs from df.\n",
    "    \n",
    "    Args:\n",
    "        df (dataframe or series): DataFrames whose columns are variables and \n",
    "            indexed by date\n",
    "        inplace (bool): save to original dataframe\n",
    "        \n",
    "    Returns:\n",
    "        df (dataframe or series): DataFrame without missing values\n",
    "    \n",
    "    Exception:\n",
    "        if every row in df has at least one NaN or if there are\n",
    "        non-leading NaNs in df. Returns dataframe or series depending on input.\n",
    "\n",
    "    '''\n",
    "    row = 0\n",
    "    while ((row < len(df)) and (df.iloc[row,:].isnull().sum() != 0)):\n",
    "        row += 1\n",
    "    if row == len(df):\n",
    "        # interrupt the program\n",
    "        raise Exception('Every date has at least one NaN.')\n",
    "    # subset dataframes\n",
    "    df = df.iloc[row:,:]\n",
    "    # check if there are still missings\n",
    "    if ((~np.isfinite(df)).sum().sum() != 0):\n",
    "        # still complete the program but raises a warning\n",
    "        warnings.warn('There are still NaNs in df_in')\n",
    "    return df"
   ]
  },
  {
   "cell_type": "code",
   "execution_count": 16,
   "metadata": {
    "scrolled": true
   },
   "outputs": [
    {
     "name": "stderr",
     "output_type": "stream",
     "text": [
      "/Users/plonfat/anaconda3/envs/ml/lib/python3.7/site-packages/ipykernel_launcher.py:28: UserWarning: There are still NaNs in df_in\n"
     ]
    }
   ],
   "source": [
    "df = removenans(df)"
   ]
  },
  {
   "cell_type": "markdown",
   "metadata": {},
   "source": [
    "## Analysing the missing values"
   ]
  },
  {
   "cell_type": "code",
   "execution_count": 17,
   "metadata": {},
   "outputs": [
    {
     "data": {
      "text/html": [
       "<div>\n",
       "<style scoped>\n",
       "    .dataframe tbody tr th:only-of-type {\n",
       "        vertical-align: middle;\n",
       "    }\n",
       "\n",
       "    .dataframe tbody tr th {\n",
       "        vertical-align: top;\n",
       "    }\n",
       "\n",
       "    .dataframe thead th {\n",
       "        text-align: right;\n",
       "    }\n",
       "</style>\n",
       "<table border=\"1\" class=\"dataframe\">\n",
       "  <thead>\n",
       "    <tr style=\"text-align: right;\">\n",
       "      <th>instrumentid</th>\n",
       "      <th>USTreas</th>\n",
       "      <th>Bund</th>\n",
       "      <th>Bobl</th>\n",
       "      <th>Gilt</th>\n",
       "      <th>UST5Y</th>\n",
       "      <th>UST2Y</th>\n",
       "      <th>BTP</th>\n",
       "      <th>CABOND</th>\n",
       "      <th>AUGOV</th>\n",
       "      <th>TIPS</th>\n",
       "      <th>...</th>\n",
       "      <th>UKEq</th>\n",
       "      <th>SwEq</th>\n",
       "      <th>AuEq</th>\n",
       "      <th>Gold</th>\n",
       "      <th>Cdty</th>\n",
       "      <th>USD</th>\n",
       "      <th>JPY</th>\n",
       "      <th>GBP</th>\n",
       "      <th>AUD</th>\n",
       "      <th>CHF</th>\n",
       "    </tr>\n",
       "  </thead>\n",
       "  <tbody>\n",
       "    <tr>\n",
       "      <th>2011-04-13</th>\n",
       "      <td>1.755394</td>\n",
       "      <td>1.39857</td>\n",
       "      <td>1.286908</td>\n",
       "      <td>1.2788</td>\n",
       "      <td>1.534658</td>\n",
       "      <td>1.245144</td>\n",
       "      <td>1.033007</td>\n",
       "      <td>1.554119</td>\n",
       "      <td>1.160873</td>\n",
       "      <td>1.08414</td>\n",
       "      <td>...</td>\n",
       "      <td>0.890622</td>\n",
       "      <td>0.942538</td>\n",
       "      <td>1.459548</td>\n",
       "      <td>0.988809</td>\n",
       "      <td>1.185025</td>\n",
       "      <td>0.691133</td>\n",
       "      <td>0.843157</td>\n",
       "      <td>0.698487</td>\n",
       "      <td>1.111875</td>\n",
       "      <td>1.23733</td>\n",
       "    </tr>\n",
       "  </tbody>\n",
       "</table>\n",
       "<p>1 rows × 29 columns</p>\n",
       "</div>"
      ],
      "text/plain": [
       "instrumentid   USTreas     Bund      Bobl    Gilt     UST5Y     UST2Y  \\\n",
       "2011-04-13    1.755394  1.39857  1.286908  1.2788  1.534658  1.245144   \n",
       "\n",
       "instrumentid       BTP    CABOND     AUGOV     TIPS  ...      UKEq      SwEq  \\\n",
       "2011-04-13    1.033007  1.554119  1.160873  1.08414  ...  0.890622  0.942538   \n",
       "\n",
       "instrumentid      AuEq      Gold      Cdty       USD       JPY       GBP  \\\n",
       "2011-04-13    1.459548  0.988809  1.185025  0.691133  0.843157  0.698487   \n",
       "\n",
       "instrumentid       AUD      CHF  \n",
       "2011-04-13    1.111875  1.23733  \n",
       "\n",
       "[1 rows x 29 columns]"
      ]
     },
     "execution_count": 17,
     "metadata": {},
     "output_type": "execute_result"
    }
   ],
   "source": [
    "# to nagivate through time we need to keep the timestamp format for the indexing \n",
    "df.loc[[pd.Timestamp('2011-04-13')]]"
   ]
  },
  {
   "cell_type": "code",
   "execution_count": 18,
   "metadata": {},
   "outputs": [
    {
     "data": {
      "text/plain": [
       "instrumentid\n",
       "USTreas      0\n",
       "Bund         0\n",
       "Bobl         0\n",
       "Gilt         0\n",
       "UST5Y        0\n",
       "UST2Y        0\n",
       "BTP          0\n",
       "CABOND       0\n",
       "AUGOV        0\n",
       "TIPS       244\n",
       "EurCorp      0\n",
       "UsCorp       0\n",
       "EMDebt       0\n",
       "UsEq         1\n",
       "CanEq        0\n",
       "EMEq         0\n",
       "JapEq        0\n",
       "EurEq        0\n",
       "SweEq        0\n",
       "UKEq         0\n",
       "SwEq         0\n",
       "AuEq         0\n",
       "Gold         0\n",
       "Cdty         0\n",
       "USD          0\n",
       "JPY          0\n",
       "GBP          0\n",
       "AUD          0\n",
       "CHF          1\n",
       "dtype: int64"
      ]
     },
     "execution_count": 18,
     "metadata": {},
     "output_type": "execute_result"
    }
   ],
   "source": [
    "# find in which columns there are still NaNs\n",
    "df.isnull().sum()"
   ]
  },
  {
   "cell_type": "code",
   "execution_count": 19,
   "metadata": {},
   "outputs": [],
   "source": [
    "# understand the frequency of the missing values\n",
    "col = 'TIPS'\n",
    "time = df.index\n",
    "line = np.ones(len(time))\n",
    "bol = df[col].isnull()"
   ]
  },
  {
   "cell_type": "code",
   "execution_count": 20,
   "metadata": {
    "scrolled": true
   },
   "outputs": [
    {
     "data": {
      "text/plain": [
       "<matplotlib.axes._subplots.AxesSubplot at 0x11f7c7cd0>"
      ]
     },
     "execution_count": 20,
     "metadata": {},
     "output_type": "execute_result"
    },
    {
     "data": {
      "image/png": "[encoded data removed]",
      "text/plain": [
       "<Figure size 1440x720 with 1 Axes>"
      ]
     },
     "metadata": {
      "needs_background": "light"
     },
     "output_type": "display_data"
    }
   ],
   "source": [
    "bol.astype(float).plot(figsize=(20,10))"
   ]
  },
  {
   "cell_type": "code",
   "execution_count": 21,
   "metadata": {},
   "outputs": [
    {
     "data": {
      "text/plain": [
       "2011-04-12    1.084010\n",
       "2011-04-13    1.084140\n",
       "2011-04-14    1.087418\n",
       "2011-04-15    1.096520\n",
       "2011-04-18    1.114804\n",
       "                ...   \n",
       "2019-12-10    1.848411\n",
       "2019-12-11    1.854452\n",
       "2019-12-12    1.838163\n",
       "2019-12-13    1.844446\n",
       "2019-12-16    1.838467\n",
       "Freq: B, Name: TIPS, Length: 2265, dtype: float64"
      ]
     },
     "execution_count": 21,
     "metadata": {},
     "output_type": "execute_result"
    }
   ],
   "source": [
    "df['TIPS']"
   ]
  },
  {
   "cell_type": "code",
   "execution_count": 22,
   "metadata": {},
   "outputs": [],
   "source": [
    "# Droping col = 'TIPS'\n",
    "df = df.drop(columns=['TIPS'])"
   ]
  },
  {
   "cell_type": "code",
   "execution_count": 23,
   "metadata": {},
   "outputs": [],
   "source": [
    "# Foward filling\n",
    "df = df.ffill()"
   ]
  },
  {
   "cell_type": "code",
   "execution_count": 24,
   "metadata": {},
   "outputs": [
    {
     "data": {
      "text/plain": [
       "0"
      ]
     },
     "execution_count": 24,
     "metadata": {},
     "output_type": "execute_result"
    }
   ],
   "source": [
    "df.isnull().sum().sum()"
   ]
  },
  {
   "cell_type": "markdown",
   "metadata": {},
   "source": [
    "## Removing potential errors"
   ]
  },
  {
   "cell_type": "code",
   "execution_count": 25,
   "metadata": {},
   "outputs": [],
   "source": [
    "# IN CASE OF TIME SERIES PUT NA AND FFILL\n",
    "\n",
    "#df5 = df5.loc[df5.energy_kcal <= 900]\n",
    "#df5 = df5.loc[df5.carbohydrates_100g >= df5.sugars_100g]\n",
    "#df5 = df5.loc[df5.g_sum <= 100]\n",
    "\n",
    "#df5.reset_index(drop=True)"
   ]
  },
  {
   "cell_type": "markdown",
   "metadata": {},
   "source": [
    "## Analysing outliers"
   ]
  },
  {
   "cell_type": "code",
   "execution_count": 37,
   "metadata": {},
   "outputs": [
    {
     "data": {
      "image/png": "[encoded data removed]",
      "text/plain": [
       "<Figure size 1080x1440 with 3 Axes>"
      ]
     },
     "metadata": {
      "needs_background": "light"
     },
     "output_type": "display_data"
    }
   ],
   "source": [
    "# Setting the std threshold\n",
    "std = 20\n",
    "\n",
    "# Need to transform into returns\n",
    "df_ret = df / df.shift(1) - 1\n",
    "df_ret.dropna(inplace = True)\n",
    "\n",
    "# Deleting the first line of df\n",
    "df_pr = df.copy()\n",
    "df_pr = df_pr.iloc[1:,:]\n",
    "\n",
    "# Traditional z-score calculation, (unfortunately biased by extreme observations)\n",
    "#z_score = (X - X.mean(axis=0)) / X.std(axis=0)\n",
    "\n",
    "# Robust z_score by using median absolution deviation\n",
    "z_score_rob = (df_ret - df_ret.median(axis=0)) / df_ret.mad(axis=0)\n",
    "outliers_idx = (z_score_rob.abs() > std)\n",
    "\n",
    "# Set a copy for modifications\n",
    "outliers_idx2 = outliers_idx.copy() \n",
    "\n",
    "# Find dates where there are outliers \n",
    "dates_raw = outliers_idx.index[outliers_idx.sum(axis=1) >= 1]\n",
    "bol = list(outliers_idx.sum(axis=0) > 0)\n",
    "cols = df.columns[bol]\n",
    "\n",
    "# Find columns where there are outliers\n",
    "# Filter \"real\" outliers date\n",
    "for col in cols:\n",
    "    for i, date in enumerate(dates_raw[:-1]):\n",
    "        j = i + 1\n",
    "        date2 = dates_raw[j]\n",
    "        datedif = date2 - date\n",
    "\n",
    "        if datedif.days == 1:\n",
    "            outliers_idx2.loc[date2,col] = False\n",
    "\n",
    "# Extracting ouliers from df\n",
    "df_out = df_pr[outliers_idx2]\n",
    "df_in = df_pr[~outliers_idx2]\n",
    "\n",
    "#Creating the charts:\n",
    "ncol=2   #for subplot\n",
    "nrow=math.ceil(len(cols)/ncol)   #for subplot\n",
    "idx=len(cols)\n",
    "\n",
    "fig = plt.figure()\n",
    "\n",
    "fig.suptitle('Visualise outliers in different time series', fontsize=16)\n",
    "\n",
    "fig.set_figheight(20)\n",
    "fig.set_figwidth(15)\n",
    "\n",
    "for i in range(idx):\n",
    "    ax = fig.add_subplot(nrow,ncol,i+1)\n",
    "    col = cols[i]\n",
    "    ax.scatter(df_in.index, df_in.loc[:,col], color='blue', s=1, label='normal points')\n",
    "    df_temp = df_out.loc[:,col].dropna()\n",
    "    ax.scatter(df_temp.index, df_temp, color='red',marker='*', s=200, label='outliers')\n",
    "    ax.set_title(col)"
   ]
  },
  {
   "cell_type": "code",
   "execution_count": null,
   "metadata": {},
   "outputs": [],
   "source": []
  }
 ],
 "metadata": {
  "kernelspec": {
   "display_name": "Python 3",
   "language": "python",
   "name": "python3"
  },
  "language_info": {
   "codemirror_mode": {
    "name": "ipython",
    "version": 3
   },
   "file_extension": ".py",
   "mimetype": "text/x-python",
   "name": "python",
   "nbconvert_exporter": "python",
   "pygments_lexer": "ipython3",
   "version": "3.7.5"
  }
 },
 "nbformat": 4,
 "nbformat_minor": 2
}
